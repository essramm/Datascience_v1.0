{
 "cells": [
  {
   "cell_type": "markdown",
   "metadata": {
    "colab_type": "text",
    "id": "xFZl61E74iam"
   },
   "source": [
    "# Week10 Regression"
   ]
  },
  {
   "cell_type": "markdown",
   "metadata": {
    "colab_type": "text",
    "id": "nK8HaacV4iao"
   },
   "source": [
    "Regression models are used to predict a continuous value. Predicting prices of a house given the features of house like size, price etc is one of the common examples of Regression. It is a supervised technique.\n",
    "\n",
    "In week10, we've covered various types of Regression:\n",
    "* **Simple Linear Regression**\n",
    "* **Polynomial Regression**\n",
    "* **Decision Tree Regression**\n",
    "* **Random Forest Regression**"
   ]
  },
  {
   "cell_type": "markdown",
   "metadata": {
    "colab_type": "text",
    "id": "GOIh4xR84iap"
   },
   "source": [
    "The best way to consolidate the knowledge in your mind is by practicing.<br>Please complete the part marked with <span style=\"color:green\">**# TODO**</span>.\n",
    "\n",
    "[Google](www.google.com), [Python Documentation](https://docs.python.org/3/contents.html), and [scikit-learn Documentation](https://scikit-learn.org/stable/) are your good friends if you have any python questions.\n",
    "\n",
    "Download **Week10_regression.ipynb** notebook to your local folder and open it with Jupyter Notebook."
   ]
  },
  {
   "cell_type": "markdown",
   "metadata": {
    "colab_type": "text",
    "id": "zD6cmFem4iaq"
   },
   "source": [
    "### Initializing Packages and Importing Data"
   ]
  },
  {
   "cell_type": "markdown",
   "metadata": {
    "colab_type": "text",
    "id": "oDhlB0nQ4iar"
   },
   "source": [
    "Install Python SciPy libraries (ex. `numpy`, `pandas`, `matplotlib`, `seaborn`)\n",
    "    "
   ]
  },
  {
   "cell_type": "code",
   "execution_count": 57,
   "metadata": {
    "colab": {
     "base_uri": "https://localhost:8080/",
     "height": 34
    },
    "colab_type": "code",
    "id": "RMYIJtMb-e7Q",
    "outputId": "ee43a72d-c85f-4536-a820-a9e9792021b1"
   },
   "outputs": [
    {
     "name": "stdout",
     "output_type": "stream",
     "text": [
      "Drive already mounted at /content/drive; to attempt to forcibly remount, call drive.mount(\"/content/drive\", force_remount=True).\n"
     ]
    }
   ],
   "source": [
    "from google.colab import drive\n",
    "drive.mount('/content/drive')"
   ]
  },
  {
   "cell_type": "code",
   "execution_count": 58,
   "metadata": {
    "colab": {
     "base_uri": "https://localhost:8080/",
     "height": 1000
    },
    "colab_type": "code",
    "id": "nz3HsBwX-ezB",
    "outputId": "22a7a5f9-d24a-468c-cabd-029119a0c4df"
   },
   "outputs": [
    {
     "name": "stdout",
     "output_type": "stream",
     "text": [
      " bigmart_data.csv\n",
      "'Copy of Copy of Untitled3 (1).ipynb'\n",
      "'Copy of Copy of Untitled3.ipynb'\n",
      "'Copy of Copy of Week4_PythonProgramming_Homework.ipynb'\n",
      "'Copy of Copy of Week5_PythonProgramming_Homework1.ipynb'\n",
      "'Copy of tensorboard.ipynb'\n",
      "'Copy of Untitled3.ipynb'\n",
      "'Copy of Untitled4.ipynb'\n",
      "'Copy of Week09_unsupervised-learning.ipynb'\n",
      "'Copy of Week3_PythonProgramming_Homework (1).ipynb'\n",
      "'Copy of Week3_PythonProgramming_Homework.ipynb'\n",
      "'Copy of Week4_PythonProgramming_Homework (1).ipynb'\n",
      "'Copy of Week4_PythonProgramming_Homework (2).ipynb'\n",
      "'Copy of Week4_PythonProgramming_Homework (3).ipynb'\n",
      "'Copy of Week4_PythonProgramming_Homework (4).ipynb'\n",
      "'Copy of Week4_PythonProgramming_Homework.ipynb'\n",
      "'Copy of Week5_PythonProgramming_Homework (1).ipynb'\n",
      "'Copy of Week5_PythonProgramming_Homework1.ipynb'\n",
      "'Copy of Week5_PythonProgramming_Homework.ipynb'\n",
      "'Copy of Week6_intro_to_visualization.ipynb'\n",
      "'Copy of Week8_LogisticRegression_Homework.ipynb'\n",
      "'Copy of Welcome To Colaboratory'\n",
      "'Copy of Welcome To Colaboratory (1)'\n",
      " copy_Week4_PythonProgramming_Homework.ipynb\n",
      "'dataframes_pandas_pypark_problems (1).ipynb'\n",
      "'dataframes_pandas_pypark_problems (3).ipynb'\n",
      " dataframes_pandas_pypark_problems.ipynb\n",
      "'Hello world .ipynb.py'\n",
      " housing.csv\n",
      "'old Week3_PythonProgramming_Homework.ipynb'\n",
      "'Screen Shot 2019-08-30 at 6.34.59 AM.ipynb'\n",
      " test.csv\n",
      " train.csv\n",
      " Tree.ipynb\n",
      " Untitled0.ipynb\n",
      " Untitled1.ipynb\n",
      " Untitled2.ipynb\n",
      " Untitled3.ipynb\n",
      " Untitled4.ipynb\n",
      " Untitled5.ipynb\n",
      " untitled.ipynb\n",
      "'Week09_unsupervised-learning (1).ipynb'\n",
      "'Week09_unsupervised-learning David.ipynb'\n",
      " Week09_unsupervised-learning.ipynb\n",
      " Week10_regression.ipynb\n",
      "'Week10_regression_solution (1).ipynb'\n",
      "'Week10_regression_solution (2).ipynb'\n",
      " Week10_regression_solution.ipynb\n",
      "'Week1_PythonProgramming_Homework (1).ipynb'\n",
      " Week1_PythonProgramming_Homework.ipynb\n",
      "'Week2_PythonProgramming_Homework.-0B3Wohk38c0MPRFR6Q0FPdEZyMWp1S0ZyMXJnbk1LVVlUdk1nPQ (1).ipynb'\n",
      " Week2_PythonProgramming_Homework.ipynb\n",
      " Week2_PythonProgramming_Homework_Solution.ipynb\n",
      " Week3_PythonProgramming_Homework.ipynb\n",
      " Week3_PythonProgramming_Homework_Solution.ipynb\n",
      "'Week4_PythonProgramming_Homework (1).ipynb'\n",
      "'Week4_PythonProgramming_Homework (2).ipynb'\n",
      "'Week4_PythonProgramming_Homework (3).ipynb'\n",
      " Week4_PythonProgramming_Homework.ipynb\n",
      " Week4_PythonProgramming_Homework_Solution.ipynb\n",
      "'Week5_PythonProgramming_Homework (1).ipynb'\n",
      " Week5_PythonProgramming_Homework1.ipynb\n",
      " Week5_PythonProgramming_Homework.ipynb\n",
      "'Week5_PythonProgramming_Homework_Solution (1).ipynb'\n",
      " Week5_PythonProgramming_Homework_Solution.ipynb\n",
      "'Week6_intro_to_visualization (1).ipynb'\n",
      " Week6_intro_to_visualization.ipynb\n",
      " Week6_intro_to_visualization_solution.ipynb\n",
      "'Week7_LinearRegression_Homework (1).ipynb'\n",
      " Week7_LinearRegression_Homework.ipynb\n",
      " Week7_LinearRegression_Homework_Solution.ipynb\n",
      "'Week8_LogisticRegression_Homework (1).ipynb'\n",
      " Week8_LogisticRegression_Homework.ipynb\n",
      " Week8_Robyn.ipynb\n",
      " WineKMC.xlsx\n"
     ]
    }
   ],
   "source": [
    "!ls /content/drive/My\\ Drive/'Colab Notebooks'"
   ]
  },
  {
   "cell_type": "code",
   "execution_count": 0,
   "metadata": {
    "colab": {},
    "colab_type": "code",
    "id": "wvKSWWZs4ias"
   },
   "outputs": [],
   "source": [
    "# TODO\n",
    "import numpy as np\n",
    "import pandas as pd\n",
    "import matplotlib.pyplot as plt\n",
    "import seaborn as sns\n",
    "%matplotlib inline\n",
    "import warnings # Ignores any warning\n"
   ]
  },
  {
   "cell_type": "markdown",
   "metadata": {
    "colab_type": "text",
    "id": "ODXDiURb4ia3"
   },
   "source": [
    "Load Data\n",
    "\n",
    "![bigmart.png](attachment:bigmart.png)"
   ]
  },
  {
   "cell_type": "code",
   "execution_count": null,
   "metadata": {
    "colab": {
     "base_uri": "https://localhost:8080/",
     "height": 586
    },
    "colab_type": "code",
    "id": "ZKwrOrFU4ia1",
    "outputId": "78f88d2e-0a3d-4f51-a22d-60f1efa9aa8c"
   },
   "outputs": [],
   "source": [
    "#data = pd.read_csv(\"bigmart_data.csv\") \n",
    "data = pd.read_csv(\"/content/drive/My Drive/Colab Notebooks/bigmart_data.csv\") \n",
    "data.head()\n",
    "data.info()\n",
    "data.describe()"
   ]
  },
  {
   "cell_type": "code",
   "execution_count": 0,
   "metadata": {
    "colab": {},
    "colab_type": "code",
    "id": "8qdaHBE84ia4"
   },
   "outputs": [],
   "source": [
    "# TODO\n",
    "\n"
   ]
  },
  {
   "cell_type": "markdown",
   "metadata": {
    "colab_type": "text",
    "id": "rdq0urBF4ia6"
   },
   "source": [
    "Exploratory Data Analysis (EDA)\n",
    "1. Univariate Distribution (Numerical and Categorical Variables)\n",
    "2. Bivariate Distribution\n",
    "3. Correlation Analysis\n"
   ]
  },
  {
   "cell_type": "code",
   "execution_count": 61,
   "metadata": {
    "colab": {
     "base_uri": "https://localhost:8080/",
     "height": 476
    },
    "colab_type": "code",
    "id": "8igf6JCi4ia7",
    "outputId": "7c45df2a-e985-4e80-dd58-f5773c03559b"
   },
   "outputs": [
    {
     "data": {
      "text/plain": [
       "Text(0.5, 1.0, 'Item_Outlet_Sales Distribution')"
      ]
     },
     "execution_count": 61,
     "metadata": {
      "tags": []
     },
     "output_type": "execute_result"
    },
    {
     "data": {
      "image/png": "[encoded data removed]",
      "text/plain": [
       "<Figure size 1224x504 with 1 Axes>"
      ]
     },
     "metadata": {
      "tags": []
     },
     "output_type": "display_data"
    }
   ],
   "source": [
    "# TODO\n",
    "plt.figure(figsize=(17,7))\n",
    "sns.distplot(data.Item_Outlet_Sales, bins = 25)\n",
    "plt.ticklabel_format(style='plain', axis='x', scilimits=(0,1))\n",
    "plt.xlabel(\"Item_Outlet_Sales\")\n",
    "plt.ylabel(\"Number of Sales\")\n",
    "plt.title(\"Item_Outlet_Sales Distribution\")\n"
   ]
  },
  {
   "cell_type": "code",
   "execution_count": 62,
   "metadata": {
    "colab": {
     "base_uri": "https://localhost:8080/",
     "height": 297
    },
    "colab_type": "code",
    "id": "EzxUlQdzFD1u",
    "outputId": "d041110b-4f0d-46f0-d39e-283497fbf746"
   },
   "outputs": [
    {
     "data": {
      "text/plain": [
       "<matplotlib.axes._subplots.AxesSubplot at 0x7fcdd0012c18>"
      ]
     },
     "execution_count": 62,
     "metadata": {
      "tags": []
     },
     "output_type": "execute_result"
    },
    {
     "data": {
      "image/png": "[encoded data removed]",
      "text/plain": [
       "<Figure size 432x288 with 1 Axes>"
      ]
     },
     "metadata": {
      "tags": []
     },
     "output_type": "display_data"
    }
   ],
   "source": [
    "data.Item_Fat_Content.value_counts()\n",
    "sns.countplot(data.Item_Fat_Content)\n"
   ]
  },
  {
   "cell_type": "markdown",
   "metadata": {
    "colab_type": "text",
    "id": "U9UZaIIT4ia9"
   },
   "source": [
    "### Data Preprocessing"
   ]
  },
  {
   "cell_type": "code",
   "execution_count": 63,
   "metadata": {
    "colab": {
     "base_uri": "https://localhost:8080/",
     "height": 476
    },
    "colab_type": "code",
    "id": "l3mmHKQGFYSk",
    "outputId": "c2a3e5ae-0303-4659-aa2a-f88916420b90"
   },
   "outputs": [
    {
     "data": {
      "text/plain": [
       "[<matplotlib.lines.Line2D at 0x7fcdcfed2b70>]"
      ]
     },
     "execution_count": 63,
     "metadata": {
      "tags": []
     },
     "output_type": "execute_result"
    },
    {
     "data": {
      "image/png": "[encoded data removed]",
      "text/plain": [
       "<Figure size 864x504 with 1 Axes>"
      ]
     },
     "metadata": {
      "tags": []
     },
     "output_type": "display_data"
    }
   ],
   "source": [
    "plt.figure(figsize=(12,7))\n",
    "plt.xlabel(\"Item_Weight\")\n",
    "plt.ylabel(\"Item_Outlet_Sales\")\n",
    "plt.title(\"Item_Weight and Item_Outlet_Sales Analysis\")\n",
    "plt.plot(data.Item_Weight, data[\"Item_Outlet_Sales\"],'.', alpha = 0.5)"
   ]
  },
  {
   "cell_type": "code",
   "execution_count": 64,
   "metadata": {
    "colab": {
     "base_uri": "https://localhost:8080/",
     "height": 459
    },
    "colab_type": "code",
    "id": "6_o1bpFnGKpy",
    "outputId": "a158457e-83ef-48ba-8f87-7f1df4e4a376"
   },
   "outputs": [
    {
     "data": {
      "image/png": "[encoded data removed]",
      "text/plain": [
       "<Figure size 864x504 with 1 Axes>"
      ]
     },
     "metadata": {
      "tags": []
     },
     "output_type": "display_data"
    }
   ],
   "source": [
    "Item_Fat_Content_pivot = \\\n",
    "data.pivot_table(index='Item_Fat_Content', values=\"Item_Outlet_Sales\", aggfunc=np.average)\n",
    "\n",
    "Item_Fat_Content_pivot.plot(kind='bar', color='blue',figsize=(12,7))\n",
    "plt.xlabel(\"Item_Fat_Content\")\n",
    "plt.ylabel(\"Item_Outlet_Sales\")\n",
    "plt.title(\"Impact of Item_Fat_Content on Item_Outlet_Sales\")\n",
    "plt.xticks(rotation=0)\n",
    "plt.show()"
   ]
  },
  {
   "cell_type": "code",
   "execution_count": 65,
   "metadata": {
    "colab": {
     "base_uri": "https://localhost:8080/",
     "height": 635
    },
    "colab_type": "code",
    "id": "xHMr3998J-il",
    "outputId": "c824dacb-5dbd-4cca-fd69-9acec1122711"
   },
   "outputs": [
    {
     "data": {
      "image/png": "[encoded data removed]",
      "text/plain": [
       "<Figure size 864x648 with 2 Axes>"
      ]
     },
     "metadata": {
      "tags": []
     },
     "output_type": "display_data"
    }
   ],
   "source": [
    "#Exactly –1. A perfect downhill (negative) linear relationship\n",
    "\n",
    "#–0.70. A strong downhill (negative) linear relationship\n",
    "\n",
    "#–0.50. A moderate downhill (negative) relationship\n",
    "\n",
    "#–0.30. A weak downhill (negative) linear relationship\n",
    "\n",
    "#0. No linear relationship\n",
    "#+0.30. A weak uphill (positive) linear relationship\n",
    "\n",
    "#+0.50. A moderate uphill (positive) relationship\n",
    "\n",
    "#+0.70. A strong uphill (positive) linear relationship\n",
    "\n",
    "#Exactly +1. A perfect uphill (positive) linear relationship\n",
    "\n",
    "numeric_features = data.select_dtypes(include=[np.number])\n",
    "corr = numeric_features.corr()\n",
    "#numeric_features \n",
    "#correlation matrix\n",
    "f, ax = plt.subplots(figsize=(12, 9))\n",
    "sns.heatmap(corr, vmax=1, square=True, cmap=\"YlGnBu\");"
   ]
  },
  {
   "cell_type": "markdown",
   "metadata": {
    "colab_type": "text",
    "id": "485gM_II4ia-"
   },
   "source": [
    "Look for missing values"
   ]
  },
  {
   "cell_type": "code",
   "execution_count": 66,
   "metadata": {
    "colab": {
     "base_uri": "https://localhost:8080/",
     "height": 306
    },
    "colab_type": "code",
    "id": "YR7uYvnD4ia_",
    "outputId": "d2417bf8-87e5-4e90-86a2-8bd9bea5dd3f"
   },
   "outputs": [
    {
     "name": "stdout",
     "output_type": "stream",
     "text": [
      "<class 'pandas.core.frame.DataFrame'>\n",
      "RangeIndex: 8523 entries, 0 to 8522\n",
      "Data columns (total 12 columns):\n",
      "Item_Identifier              8523 non-null object\n",
      "Item_Weight                  7060 non-null float64\n",
      "Item_Fat_Content             8523 non-null object\n",
      "Item_Visibility              8523 non-null float64\n",
      "Item_Type                    8523 non-null object\n",
      "Item_MRP                     8523 non-null float64\n",
      "Outlet_Identifier            8523 non-null object\n",
      "Outlet_Establishment_Year    8523 non-null int64\n",
      "Outlet_Size                  6113 non-null object\n",
      "Outlet_Location_Type         8523 non-null object\n",
      "Outlet_Type                  8523 non-null object\n",
      "Item_Outlet_Sales            8523 non-null float64\n",
      "dtypes: float64(4), int64(1), object(7)\n",
      "memory usage: 799.2+ KB\n"
     ]
    }
   ],
   "source": [
    "# TODO\n",
    "data.info()\n",
    "#Item weight is 7060 out of 8523\n",
    "#Item Outlet_zize is 6113 out of 8523\n",
    "#Key in the mean and media for these columns"
   ]
  },
  {
   "cell_type": "markdown",
   "metadata": {
    "colab_type": "text",
    "id": "a7N4fU8G4ibB"
   },
   "source": [
    "Impute missing values"
   ]
  },
  {
   "cell_type": "code",
   "execution_count": 67,
   "metadata": {
    "colab": {
     "base_uri": "https://localhost:8080/",
     "height": 306
    },
    "colab_type": "code",
    "id": "Qp7fIzFL4ibB",
    "outputId": "85507570-251e-44cb-ac1b-4687a1a7f258"
   },
   "outputs": [
    {
     "name": "stdout",
     "output_type": "stream",
     "text": [
      "<class 'pandas.core.frame.DataFrame'>\n",
      "RangeIndex: 8523 entries, 0 to 8522\n",
      "Data columns (total 12 columns):\n",
      "Item_Identifier              8523 non-null object\n",
      "Item_Weight                  8523 non-null float64\n",
      "Item_Fat_Content             8523 non-null object\n",
      "Item_Visibility              8523 non-null float64\n",
      "Item_Type                    8523 non-null object\n",
      "Item_MRP                     8523 non-null float64\n",
      "Outlet_Identifier            8523 non-null object\n",
      "Outlet_Establishment_Year    8523 non-null int64\n",
      "Outlet_Size                  6113 non-null object\n",
      "Outlet_Location_Type         8523 non-null object\n",
      "Outlet_Type                  8523 non-null object\n",
      "Item_Outlet_Sales            8523 non-null float64\n",
      "dtypes: float64(4), int64(1), object(7)\n",
      "memory usage: 799.2+ KB\n"
     ]
    }
   ],
   "source": [
    "# TODO\n",
    "data['Item_Weight'].fillna((data['Item_Weight'].mean()), inplace=True)\n",
    "data.info()"
   ]
  },
  {
   "cell_type": "code",
   "execution_count": 68,
   "metadata": {
    "colab": {
     "base_uri": "https://localhost:8080/",
     "height": 306
    },
    "colab_type": "code",
    "id": "sFa4tLtBNc3R",
    "outputId": "a7f17a39-7bfb-4a9b-c50c-ae741d500986"
   },
   "outputs": [
    {
     "name": "stdout",
     "output_type": "stream",
     "text": [
      "<class 'pandas.core.frame.DataFrame'>\n",
      "RangeIndex: 8523 entries, 0 to 8522\n",
      "Data columns (total 12 columns):\n",
      "Item_Identifier              8523 non-null object\n",
      "Item_Weight                  8523 non-null float64\n",
      "Item_Fat_Content             8523 non-null object\n",
      "Item_Visibility              8523 non-null float64\n",
      "Item_Type                    8523 non-null object\n",
      "Item_MRP                     8523 non-null float64\n",
      "Outlet_Identifier            8523 non-null object\n",
      "Outlet_Establishment_Year    8523 non-null int64\n",
      "Outlet_Size                  6113 non-null object\n",
      "Outlet_Location_Type         8523 non-null object\n",
      "Outlet_Type                  8523 non-null object\n",
      "Item_Outlet_Sales            8523 non-null float64\n",
      "dtypes: float64(4), int64(1), object(7)\n",
      "memory usage: 799.2+ KB\n"
     ]
    }
   ],
   "source": [
    "data['Outlet_Size'].fillna((data['Outlet_Size'].mode()), inplace=True)\n",
    "data.info()"
   ]
  },
  {
   "cell_type": "markdown",
   "metadata": {
    "colab_type": "text",
    "id": "DVE5XEQU4ibE"
   },
   "source": [
    "Feature engineering -- examine each column, perform necessary steps to prepare your data before modeling"
   ]
  },
  {
   "cell_type": "code",
   "execution_count": 69,
   "metadata": {
    "colab": {
     "base_uri": "https://localhost:8080/",
     "height": 170
    },
    "colab_type": "code",
    "id": "dp_ILPKn4ibE",
    "outputId": "e0f39e24-8c28-4b92-eb11-52945a846613"
   },
   "outputs": [
    {
     "data": {
      "text/plain": [
       "count    8523.000000\n",
       "mean       21.168133\n",
       "std         8.371760\n",
       "min        10.000000\n",
       "25%        15.000000\n",
       "50%        20.000000\n",
       "75%        32.000000\n",
       "max        34.000000\n",
       "Name: Outlet_Years, dtype: float64"
      ]
     },
     "execution_count": 69,
     "metadata": {
      "tags": []
     },
     "output_type": "execute_result"
    }
   ],
   "source": [
    "# TODO\n",
    "#Determine the years of operation of a store\n",
    "data['Outlet_Years'] = 2019 - data['Outlet_Establishment_Year']\n",
    "data['Outlet_Years']\n",
    "data['Outlet_Years'].describe()"
   ]
  },
  {
   "cell_type": "markdown",
   "metadata": {
    "colab_type": "text",
    "id": "Axpw24LE4ibG"
   },
   "source": [
    "Encode categorical variables (dummy variables)"
   ]
  },
  {
   "cell_type": "code",
   "execution_count": 70,
   "metadata": {
    "colab": {
     "base_uri": "https://localhost:8080/",
     "height": 521
    },
    "colab_type": "code",
    "id": "eGhBlJWi4ibH",
    "outputId": "efee82c8-f59a-4d28-c392-7ed77d377a3b"
   },
   "outputs": [
    {
     "data": {
      "text/html": [
       "<div>\n",
       "<style scoped>\n",
       "    .dataframe tbody tr th:only-of-type {\n",
       "        vertical-align: middle;\n",
       "    }\n",
       "\n",
       "    .dataframe tbody tr th {\n",
       "        vertical-align: top;\n",
       "    }\n",
       "\n",
       "    .dataframe thead th {\n",
       "        text-align: right;\n",
       "    }\n",
       "</style>\n",
       "<table border=\"1\" class=\"dataframe\">\n",
       "  <thead>\n",
       "    <tr style=\"text-align: right;\">\n",
       "      <th></th>\n",
       "      <th></th>\n",
       "      <th>Item_Identifier</th>\n",
       "      <th>Item_Weight</th>\n",
       "      <th>Item_Fat_Content</th>\n",
       "      <th>Item_Visibility</th>\n",
       "      <th>Item_MRP</th>\n",
       "      <th>Outlet_Identifier</th>\n",
       "      <th>Outlet_Establishment_Year</th>\n",
       "      <th>Outlet_Size</th>\n",
       "      <th>Outlet_Location_Type</th>\n",
       "      <th>Outlet_Type</th>\n",
       "      <th>Item_Outlet_Sales</th>\n",
       "      <th>Outlet_Years</th>\n",
       "    </tr>\n",
       "    <tr>\n",
       "      <th>Item_Type_Combined</th>\n",
       "      <th>Item_Type</th>\n",
       "      <th></th>\n",
       "      <th></th>\n",
       "      <th></th>\n",
       "      <th></th>\n",
       "      <th></th>\n",
       "      <th></th>\n",
       "      <th></th>\n",
       "      <th></th>\n",
       "      <th></th>\n",
       "      <th></th>\n",
       "      <th></th>\n",
       "      <th></th>\n",
       "    </tr>\n",
       "  </thead>\n",
       "  <tbody>\n",
       "    <tr>\n",
       "      <th>DA2</th>\n",
       "      <th>Soft Drinks</th>\n",
       "      <td>6</td>\n",
       "      <td>6</td>\n",
       "      <td>6</td>\n",
       "      <td>6</td>\n",
       "      <td>6</td>\n",
       "      <td>6</td>\n",
       "      <td>6</td>\n",
       "      <td>3</td>\n",
       "      <td>6</td>\n",
       "      <td>6</td>\n",
       "      <td>6</td>\n",
       "      <td>6</td>\n",
       "    </tr>\n",
       "    <tr>\n",
       "      <th>DA4</th>\n",
       "      <th>Soft Drinks</th>\n",
       "      <td>7</td>\n",
       "      <td>7</td>\n",
       "      <td>7</td>\n",
       "      <td>7</td>\n",
       "      <td>7</td>\n",
       "      <td>7</td>\n",
       "      <td>7</td>\n",
       "      <td>5</td>\n",
       "      <td>7</td>\n",
       "      <td>7</td>\n",
       "      <td>7</td>\n",
       "      <td>7</td>\n",
       "    </tr>\n",
       "    <tr>\n",
       "      <th>DA9</th>\n",
       "      <th>Soft Drinks</th>\n",
       "      <td>8</td>\n",
       "      <td>8</td>\n",
       "      <td>8</td>\n",
       "      <td>8</td>\n",
       "      <td>8</td>\n",
       "      <td>8</td>\n",
       "      <td>8</td>\n",
       "      <td>6</td>\n",
       "      <td>8</td>\n",
       "      <td>8</td>\n",
       "      <td>8</td>\n",
       "      <td>8</td>\n",
       "    </tr>\n",
       "    <tr>\n",
       "      <th>DB1</th>\n",
       "      <th>Soft Drinks</th>\n",
       "      <td>3</td>\n",
       "      <td>3</td>\n",
       "      <td>3</td>\n",
       "      <td>3</td>\n",
       "      <td>3</td>\n",
       "      <td>3</td>\n",
       "      <td>3</td>\n",
       "      <td>3</td>\n",
       "      <td>3</td>\n",
       "      <td>3</td>\n",
       "      <td>3</td>\n",
       "      <td>3</td>\n",
       "    </tr>\n",
       "    <tr>\n",
       "      <th>DB3</th>\n",
       "      <th>Soft Drinks</th>\n",
       "      <td>5</td>\n",
       "      <td>5</td>\n",
       "      <td>5</td>\n",
       "      <td>5</td>\n",
       "      <td>5</td>\n",
       "      <td>5</td>\n",
       "      <td>5</td>\n",
       "      <td>3</td>\n",
       "      <td>5</td>\n",
       "      <td>5</td>\n",
       "      <td>5</td>\n",
       "      <td>5</td>\n",
       "    </tr>\n",
       "    <tr>\n",
       "      <th>...</th>\n",
       "      <th>...</th>\n",
       "      <td>...</td>\n",
       "      <td>...</td>\n",
       "      <td>...</td>\n",
       "      <td>...</td>\n",
       "      <td>...</td>\n",
       "      <td>...</td>\n",
       "      <td>...</td>\n",
       "      <td>...</td>\n",
       "      <td>...</td>\n",
       "      <td>...</td>\n",
       "      <td>...</td>\n",
       "      <td>...</td>\n",
       "    </tr>\n",
       "    <tr>\n",
       "      <th>NZ5</th>\n",
       "      <th>Health and Hygiene</th>\n",
       "      <td>3</td>\n",
       "      <td>3</td>\n",
       "      <td>3</td>\n",
       "      <td>3</td>\n",
       "      <td>3</td>\n",
       "      <td>3</td>\n",
       "      <td>3</td>\n",
       "      <td>3</td>\n",
       "      <td>3</td>\n",
       "      <td>3</td>\n",
       "      <td>3</td>\n",
       "      <td>3</td>\n",
       "    </tr>\n",
       "    <tr>\n",
       "      <th>NZ6</th>\n",
       "      <th>Household</th>\n",
       "      <td>7</td>\n",
       "      <td>7</td>\n",
       "      <td>7</td>\n",
       "      <td>7</td>\n",
       "      <td>7</td>\n",
       "      <td>7</td>\n",
       "      <td>7</td>\n",
       "      <td>6</td>\n",
       "      <td>7</td>\n",
       "      <td>7</td>\n",
       "      <td>7</td>\n",
       "      <td>7</td>\n",
       "    </tr>\n",
       "    <tr>\n",
       "      <th>NZ7</th>\n",
       "      <th>Health and Hygiene</th>\n",
       "      <td>6</td>\n",
       "      <td>6</td>\n",
       "      <td>6</td>\n",
       "      <td>6</td>\n",
       "      <td>6</td>\n",
       "      <td>6</td>\n",
       "      <td>6</td>\n",
       "      <td>3</td>\n",
       "      <td>6</td>\n",
       "      <td>6</td>\n",
       "      <td>6</td>\n",
       "      <td>6</td>\n",
       "    </tr>\n",
       "    <tr>\n",
       "      <th>NZ8</th>\n",
       "      <th>Household</th>\n",
       "      <td>7</td>\n",
       "      <td>7</td>\n",
       "      <td>7</td>\n",
       "      <td>7</td>\n",
       "      <td>7</td>\n",
       "      <td>7</td>\n",
       "      <td>7</td>\n",
       "      <td>5</td>\n",
       "      <td>7</td>\n",
       "      <td>7</td>\n",
       "      <td>7</td>\n",
       "      <td>7</td>\n",
       "    </tr>\n",
       "    <tr>\n",
       "      <th>NZ9</th>\n",
       "      <th>Health and Hygiene</th>\n",
       "      <td>4</td>\n",
       "      <td>4</td>\n",
       "      <td>4</td>\n",
       "      <td>4</td>\n",
       "      <td>4</td>\n",
       "      <td>4</td>\n",
       "      <td>4</td>\n",
       "      <td>2</td>\n",
       "      <td>4</td>\n",
       "      <td>4</td>\n",
       "      <td>4</td>\n",
       "      <td>4</td>\n",
       "    </tr>\n",
       "  </tbody>\n",
       "</table>\n",
       "<p>1546 rows × 12 columns</p>\n",
       "</div>"
      ],
      "text/plain": [
       "                                       Item_Identifier  ...  Outlet_Years\n",
       "Item_Type_Combined Item_Type                            ...              \n",
       "DA2                Soft Drinks                       6  ...             6\n",
       "DA4                Soft Drinks                       7  ...             7\n",
       "DA9                Soft Drinks                       8  ...             8\n",
       "DB1                Soft Drinks                       3  ...             3\n",
       "DB3                Soft Drinks                       5  ...             5\n",
       "...                                                ...  ...           ...\n",
       "NZ5                Health and Hygiene                3  ...             3\n",
       "NZ6                Household                         7  ...             7\n",
       "NZ7                Health and Hygiene                6  ...             6\n",
       "NZ8                Household                         7  ...             7\n",
       "NZ9                Health and Hygiene                4  ...             4\n",
       "\n",
       "[1546 rows x 12 columns]"
      ]
     },
     "execution_count": 70,
     "metadata": {
      "tags": []
     },
     "output_type": "execute_result"
    }
   ],
   "source": [
    "# TODO;\n",
    "data.groupby(['Item_Type']).count()\n",
    "data['Item_Type_Combined'] = data['Item_Identifier'].apply(lambda x: x[0::2])\n",
    "data.groupby(['Item_Type_Combined','Item_Type']).count()\n"
   ]
  },
  {
   "cell_type": "code",
   "execution_count": 71,
   "metadata": {
    "colab": {
     "base_uri": "https://localhost:8080/",
     "height": 34
    },
    "colab_type": "code",
    "id": "ZYVBRRwma4Un",
    "outputId": "5c754efa-2d34-432b-d95a-e16a2b70583c"
   },
   "outputs": [
    {
     "data": {
      "text/plain": [
       "Series([], Name: Item_Type_Combined, dtype: int64)"
      ]
     },
     "execution_count": 71,
     "metadata": {
      "tags": []
     },
     "output_type": "execute_result"
    }
   ],
   "source": [
    "#Rename them to more intuitive categories:\n",
    "data['Item_Type_Combined'] = data['Item_Type_Combined'].map({'FD':'Food',\n",
    "                                                             'NC':'Non-Consumable',\n",
    "                                                             'DR':'Drinks'})\n",
    "data['Item_Type_Combined'].value_counts()"
   ]
  },
  {
   "cell_type": "code",
   "execution_count": 72,
   "metadata": {
    "colab": {
     "base_uri": "https://localhost:8080/",
     "height": 221
    },
    "colab_type": "code",
    "id": "uzwC0sSoa4Y6",
    "outputId": "7e08f3f9-2ebe-4b14-8ce2-f009eb169116"
   },
   "outputs": [
    {
     "name": "stdout",
     "output_type": "stream",
     "text": [
      "Original Categories:\n",
      "Low Fat    5089\n",
      "Regular    2889\n",
      "LF          316\n",
      "reg         117\n",
      "low fat     112\n",
      "Name: Item_Fat_Content, dtype: int64\n",
      "\n",
      "Modified Categories:\n",
      "Low Fat    5517\n",
      "Regular    3006\n",
      "Name: Item_Fat_Content, dtype: int64\n"
     ]
    }
   ],
   "source": [
    "#Change categories of low fat:\n",
    "print('Original Categories:')\n",
    "print(data['Item_Fat_Content'].value_counts())\n",
    "\n",
    "print('\\nModified Categories:')\n",
    "data['Item_Fat_Content'] = data['Item_Fat_Content'].replace({'LF':'Low Fat',\n",
    "                                                             'reg':'Regular',\n",
    "                                                             'low fat':'Low Fat'})\n",
    "\n",
    "print(data['Item_Fat_Content'].value_counts())\n"
   ]
  },
  {
   "cell_type": "code",
   "execution_count": 75,
   "metadata": {
    "colab": {
     "base_uri": "https://localhost:8080/",
     "height": 391
    },
    "colab_type": "code",
    "id": "j-fe3J5MbN9G",
    "outputId": "5366d605-972b-432c-e5d4-e05f3d7fa123"
   },
   "outputs": [
    {
     "data": {
      "text/plain": [
       "Item_Identifier                   object\n",
       "Item_Weight                      float64\n",
       "Item_Visibility                  float64\n",
       "Item_Type                         object\n",
       "Item_MRP                         float64\n",
       "Outlet_Identifier                 object\n",
       "Outlet_Establishment_Year          int64\n",
       "Item_Outlet_Sales                float64\n",
       "Outlet_Years                       int64\n",
       "Item_Fat_Content_Low Fat           uint8\n",
       "Item_Fat_Content_Regular           uint8\n",
       "Outlet_Location_Type_Tier 1        uint8\n",
       "Outlet_Location_Type_Tier 2        uint8\n",
       "Outlet_Location_Type_Tier 3        uint8\n",
       "Outlet_Size_High                   uint8\n",
       "Outlet_Size_Medium                 uint8\n",
       "Outlet_Size_Small                  uint8\n",
       "Outlet_Type_Grocery Store          uint8\n",
       "Outlet_Type_Supermarket Type1      uint8\n",
       "Outlet_Type_Supermarket Type2      uint8\n",
       "Outlet_Type_Supermarket Type3      uint8\n",
       "dtype: object"
      ]
     },
     "execution_count": 75,
     "metadata": {
      "tags": []
     },
     "output_type": "execute_result"
    }
   ],
   "source": [
    "# TODO\n",
    "#Dummy Variables:\n",
    "data = pd.get_dummies(data, columns=['Item_Fat_Content','Outlet_Location_Type','Outlet_Size','Outlet_Type',\n",
    "                              'Item_Type_Combined'])\n",
    "\n",
    "data.dtypes"
   ]
  },
  {
   "cell_type": "code",
   "execution_count": 0,
   "metadata": {
    "colab": {},
    "colab_type": "code",
    "id": "dBm9D_-La4eF"
   },
   "outputs": [],
   "source": [
    "Split to training set and testing set (Note: test_size = 0.25, random_state = 42)"
   ]
  },
  {
   "cell_type": "markdown",
   "metadata": {
    "colab_type": "text",
    "id": "f_eOdWtQ4ibJ"
   },
   "source": [
    "### Modeling"
   ]
  },
  {
   "cell_type": "markdown",
   "metadata": {
    "colab_type": "text",
    "id": "owFOWvDY4ibK"
   },
   "source": [
    "Split to training set and testing set (Note: test_size = 0.25, random_state = 42)"
   ]
  },
  {
   "cell_type": "code",
   "execution_count": 0,
   "metadata": {
    "colab": {},
    "colab_type": "code",
    "id": "6MTCqYet4ibK"
   },
   "outputs": [],
   "source": [
    "# TODO\n",
    "from sklearn import datasets\n",
    "from sklearn.model_selection import train_test_split\n",
    "train, test = train_test_split(data, test_size = 0.25, random_state = 42)\n"
   ]
  },
  {
   "cell_type": "markdown",
   "metadata": {
    "colab_type": "text",
    "id": "Ad82w45D4ibM"
   },
   "source": [
    "Define target and predictors (Drop `Item_Identifier` and `Outlet_Identifier`)"
   ]
  },
  {
   "cell_type": "code",
   "execution_count": 0,
   "metadata": {
    "colab": {},
    "colab_type": "code",
    "id": "eWDikcrd4ibN"
   },
   "outputs": [],
   "source": [
    "# TODO\n",
    "# TODO\n",
    "X_train = train.drop('Item_Outlet_Sales',1)\n",
    "X_test = test.drop('Item_Outlet_Sales',1)\n",
    "y_train = train['Item_Outlet_Sales']\n",
    "y_test = test['Item_Outlet_Sales']\n"
   ]
  },
  {
   "cell_type": "markdown",
   "metadata": {
    "colab_type": "text",
    "id": "RQ50Frht4ibP"
   },
   "source": [
    "#### Linear Regression"
   ]
  },
  {
   "cell_type": "markdown",
   "metadata": {
    "colab_type": "text",
    "id": "1REixL394ibQ"
   },
   "source": [
    "Fit a linear model"
   ]
  },
  {
   "cell_type": "code",
   "execution_count": 0,
   "metadata": {
    "colab": {},
    "colab_type": "code",
    "id": "zt0xs6_r2xop"
   },
   "outputs": [],
   "source": [
    "# TODO\n",
    "from sklearn.linear_model import LinearRegression\n",
    "#from sklearn.linear_model import LinearRegression\n",
    "LR = LinearRegression(normalize=True)\n",
    "LR = LR.fit(X_train, y_train)"
   ]
  },
  {
   "cell_type": "code",
   "execution_count": 0,
   "metadata": {
    "colab": {},
    "colab_type": "code",
    "id": "S7njuMuVbSBM"
   },
   "outputs": [],
   "source": [
    "data.drop(['Item_Identifier','Item_Type','Outlet_Identifier','Outlet_Establishment_Year'],axis=1,inplace=True)"
   ]
  },
  {
   "cell_type": "markdown",
   "metadata": {
    "colab_type": "text",
    "id": "yoMSlkgu2Ao-"
   },
   "source": []
  },
  {
   "cell_type": "code",
   "execution_count": 0,
   "metadata": {
    "colab": {},
    "colab_type": "code",
    "id": "MRdAt1sz4ibQ"
   },
   "outputs": [],
   "source": [
    "# TODO\n",
    "from sklearn.linear_model import LinearRegression\n",
    "LR = LinearRegression(normalize=True)\n",
    "LR = LR.fit(X_train, y_train)\n"
   ]
  },
  {
   "cell_type": "markdown",
   "metadata": {
    "colab_type": "text",
    "id": "sofdNkOl4ibS"
   },
   "source": [
    "Look at estimated intercept and coefficients"
   ]
  },
  {
   "cell_type": "code",
   "execution_count": 82,
   "metadata": {
    "colab": {
     "base_uri": "https://localhost:8080/",
     "height": 306
    },
    "colab_type": "code",
    "id": "vt6j2Qji4ibT",
    "outputId": "8b0461d1-25b6-475d-eab7-655e1f6d8c51"
   },
   "outputs": [
    {
     "data": {
      "text/plain": [
       "Outlet_Type_Grocery Store       -6.178474e+16\n",
       "Outlet_Type_Supermarket Type2   -6.178474e+16\n",
       "Outlet_Type_Supermarket Type1   -6.178474e+16\n",
       "Outlet_Type_Supermarket Type3   -6.178474e+16\n",
       "Item_Visibility                 -6.616059e+02\n",
       "Outlet_Years                    -2.571358e+01\n",
       "Item_Weight                      1.044792e+00\n",
       "Item_MRP                         1.577881e+01\n",
       "Outlet_Size_Small                1.499170e+02\n",
       "Outlet_Size_Medium               1.934222e+02\n",
       "Outlet_Size_High                 7.484116e+02\n",
       "Item_Fat_Content_Low Fat         3.208026e+15\n",
       "Item_Fat_Content_Regular         3.208026e+15\n",
       "Outlet_Location_Type_Tier 3      5.665243e+15\n",
       "Outlet_Location_Type_Tier 2      5.665243e+15\n",
       "Outlet_Location_Type_Tier 1      5.665243e+15\n",
       "dtype: float64"
      ]
     },
     "execution_count": 82,
     "metadata": {
      "tags": []
     },
     "output_type": "execute_result"
    }
   ],
   "source": [
    "# Todo\n",
    "coef_lr = pd.Series(LR.coef_,X_train.columns).sort_values()\n",
    "coef_lr\n"
   ]
  },
  {
   "cell_type": "code",
   "execution_count": 83,
   "metadata": {
    "colab": {
     "base_uri": "https://localhost:8080/",
     "height": 34
    },
    "colab_type": "code",
    "id": "rQPe8FFT4ibW",
    "outputId": "792b3670-9daa-4bfe-99e9-3117317ef13a"
   },
   "outputs": [
    {
     "data": {
      "text/plain": [
       "5.291147475294088e+16"
      ]
     },
     "execution_count": 83,
     "metadata": {
      "tags": []
     },
     "output_type": "execute_result"
    }
   ],
   "source": [
    "# Todo\n",
    "LR.intercept_\n"
   ]
  },
  {
   "cell_type": "markdown",
   "metadata": {
    "colab_type": "text",
    "id": "6Gb48NDK4ibV"
   },
   "source": [
    "Make predictions on test dataset and plot the true outcome compared to the predicted outcome"
   ]
  },
  {
   "cell_type": "markdown",
   "metadata": {
    "colab_type": "text",
    "id": "Lk_aPgPo4ibY"
   },
   "source": [
    "Calculate the residual sum of squares and mean squared error"
   ]
  },
  {
   "cell_type": "code",
   "execution_count": 0,
   "metadata": {
    "colab": {},
    "colab_type": "code",
    "id": "dHW7vgZM4ibY"
   },
   "outputs": [],
   "source": [
    "# Todo\n",
    "y_pred = LR.predict(X_test)"
   ]
  },
  {
   "cell_type": "code",
   "execution_count": 85,
   "metadata": {
    "colab": {
     "base_uri": "https://localhost:8080/",
     "height": 51
    },
    "colab_type": "code",
    "id": "_V8bsb2a4ibb",
    "outputId": "ed96358e-03dd-40b4-c8ca-15d2169eb7fd"
   },
   "outputs": [
    {
     "name": "stdout",
     "output_type": "stream",
     "text": [
      "rss:  2533910495.081645\n",
      "mse:  1189071.0910753866\n"
     ]
    }
   ],
   "source": [
    "# Todo\n",
    "from sklearn import model_selection, metrics\n",
    "rss = np.sum((y_pred - y_test)**2)\n",
    "print('rss: ', rss)\n",
    "mse=np.mean((y_pred - y_test)**2)\n",
    "print('mse: ', mse)\n"
   ]
  },
  {
   "cell_type": "markdown",
   "metadata": {
    "colab_type": "text",
    "id": "ezGplM_n4iba"
   },
   "source": [
    "We've learned that there are some caveats in the train/test split method. In order to avoid this, we can perform something called cross validation. Try K-Fold Cross Validation (ex. 5-fold)"
   ]
  },
  {
   "cell_type": "code",
   "execution_count": 86,
   "metadata": {
    "colab": {
     "base_uri": "https://localhost:8080/",
     "height": 187
    },
    "colab_type": "code",
    "id": "Ur74LddR4ibg",
    "outputId": "3afeed7c-1d18-4ee3-f125-2db29e63288f"
   },
   "outputs": [
    {
     "name": "stdout",
     "output_type": "stream",
     "text": [
      "rss:  2258464573.523327\n",
      "mse:  1324612.6530928607\n",
      "rss:  2130612475.834109\n",
      "mse:  1249626.0855332029\n",
      "rss:  2111687612.4222145\n",
      "mse:  1238526.4588986605\n",
      "rss:  2161603883.9106607\n",
      "mse:  1268546.880229262\n",
      "rss:  2211279310.7428217\n",
      "mse:  1297699.1260227826\n"
     ]
    }
   ],
   "source": [
    "# Todo\n",
    "X=data.drop('Item_Outlet_Sales',1)\n",
    "y=data['Item_Outlet_Sales']\n",
    "from sklearn import model_selection\n",
    "kf = model_selection.KFold(n_splits=5)\n",
    "lr = LinearRegression()\n",
    "for train_index, test_index in kf.split(X):\n",
    "    X_train, X_test = X.iloc[train_index], X.iloc[test_index]\n",
    "    y_train, y_test = y.iloc[train_index], y.iloc[test_index]\n",
    "    lr.fit(X_train,y_train)\n",
    "    y_pred = lr.predict(X_test)\n",
    "    rss = np.sum((y_pred - y_test)**2)\n",
    "    print('rss: ', rss)\n",
    "    mse=np.mean((y_pred - y_test)**2)\n",
    "    print('mse: ', mse)\n"
   ]
  },
  {
   "cell_type": "markdown",
   "metadata": {
    "colab_type": "text",
    "id": "bRPWG9V74ibf"
   },
   "source": [
    "Plot coefficient graph"
   ]
  },
  {
   "cell_type": "code",
   "execution_count": 87,
   "metadata": {
    "colab": {
     "base_uri": "https://localhost:8080/",
     "height": 452
    },
    "colab_type": "code",
    "id": "IX3vE3b-7jxg",
    "outputId": "0338788c-100d-47df-c047-a7fa2e3a0de2"
   },
   "outputs": [
    {
     "data": {
      "text/plain": [
       "<matplotlib.axes._subplots.AxesSubplot at 0x7fcdcfdea208>"
      ]
     },
     "execution_count": 87,
     "metadata": {
      "tags": []
     },
     "output_type": "execute_result"
    },
    {
     "data": {
      "image/png": "[encoded data removed]",
      "text/plain": [
       "<Figure size 432x288 with 1 Axes>"
      ]
     },
     "metadata": {
      "tags": []
     },
     "output_type": "display_data"
    }
   ],
   "source": [
    "coef_lr.plot(kind='bar', title='Model Coefficients')"
   ]
  },
  {
   "cell_type": "markdown",
   "metadata": {
    "colab_type": "text",
    "id": "SpemqvMz4ibj"
   },
   "source": [
    "#### Regularized Linear Regression"
   ]
  },
  {
   "cell_type": "markdown",
   "metadata": {
    "colab_type": "text",
    "id": "4WM8Lq_24ibj"
   },
   "source": [
    "If you look at the coefficients, they are very large in magnitude which signifies overfitting. To cater to this, lets use a ridge regression model."
   ]
  },
  {
   "cell_type": "code",
   "execution_count": 88,
   "metadata": {
    "colab": {
     "base_uri": "https://localhost:8080/",
     "height": 34
    },
    "colab_type": "code",
    "id": "YN_VjgmN4ibk",
    "outputId": "1a35937c-2c4d-4616-e0e5-d7014877f7a4"
   },
   "outputs": [
    {
     "data": {
      "text/plain": [
       "0.001"
      ]
     },
     "execution_count": 88,
     "metadata": {
      "tags": []
     },
     "output_type": "execute_result"
    }
   ],
   "source": [
    "# Todo\n",
    "\n",
    "X_train = train.drop('Item_Outlet_Sales',1)\n",
    "X_test = test.drop('Item_Outlet_Sales',1)\n",
    "y_train = train['Item_Outlet_Sales']\n",
    "y_test = test['Item_Outlet_Sales']\n",
    "\n",
    "from sklearn.linear_model import Ridge, RidgeCV\n",
    "rr=RidgeCV(alphas=np.array([0.0001, 0.001, 0.01, 0.05, 0.1, 0.5, 1, 10]), normalize=True, scoring=\"neg_mean_squared_error\", cv=5)\n",
    "rr.fit(X_train,y_train)\n",
    "rr.alpha_\n"
   ]
  },
  {
   "cell_type": "code",
   "execution_count": 89,
   "metadata": {
    "colab": {
     "base_uri": "https://localhost:8080/",
     "height": 51
    },
    "colab_type": "code",
    "id": "VcbdggjA4ibm",
    "outputId": "e382d88e-e31a-4aba-d90b-62404ca2e3fd"
   },
   "outputs": [
    {
     "name": "stdout",
     "output_type": "stream",
     "text": [
      "rss:  2530221911.847323\n",
      "mse:  1187340.1744942842\n"
     ]
    }
   ],
   "source": [
    "# Todo\n",
    "ridge = Ridge(alpha=rr.alpha_,normalize=True)\n",
    "ridge.fit(X_train,y_train)\n",
    "y_pred = ridge.predict(X_test)\n",
    "rss = np.sum((y_pred - y_test)**2)\n",
    "print('rss: ', rss)\n",
    "mse=np.mean((y_pred - y_test)**2)\n",
    "print('mse: ', mse)\n"
   ]
  },
  {
   "cell_type": "markdown",
   "metadata": {
    "colab_type": "text",
    "id": "urAyF6hN4ibl"
   },
   "source": [
    "There are so many predictors in the regression model. Can you use a lasso model to apply feature selection?"
   ]
  },
  {
   "cell_type": "code",
   "execution_count": 90,
   "metadata": {
    "colab": {
     "base_uri": "https://localhost:8080/",
     "height": 34
    },
    "colab_type": "code",
    "id": "mSHPN4bD8XnS",
    "outputId": "d1b43e22-ca62-41c7-e055-94ff26fac574"
   },
   "outputs": [
    {
     "data": {
      "text/plain": [
       "0.001"
      ]
     },
     "execution_count": 90,
     "metadata": {
      "tags": []
     },
     "output_type": "execute_result"
    }
   ],
   "source": [
    "# Todo\n",
    "from sklearn.linear_model import Lasso, LassoCV\n",
    "lassocv=LassoCV(alphas=np.array([0.0001, 0.001, 0.01, 0.05, 0.1, 0.5, 1, 10]), normalize=True, cv=5)\n",
    "lassocv.fit(X_train,y_train)\n",
    "lassocv.alpha_"
   ]
  },
  {
   "cell_type": "markdown",
   "metadata": {
    "colab_type": "text",
    "id": "mWNv_SmX4ibu"
   },
   "source": [
    "What are some differences between ridge and lasso, when should we proceed to use each?"
   ]
  },
  {
   "cell_type": "code",
   "execution_count": 91,
   "metadata": {
    "colab": {
     "base_uri": "https://localhost:8080/",
     "height": 51
    },
    "colab_type": "code",
    "id": "9xrZH68d4ibv",
    "outputId": "d71607e1-aedf-4907-8bc1-f6fd70809372"
   },
   "outputs": [
    {
     "name": "stdout",
     "output_type": "stream",
     "text": [
      "rss:  2529835137.758169\n",
      "mse:  1187158.6756256083\n"
     ]
    }
   ],
   "source": [
    "# Todo\n",
    "lasso = Lasso(alpha=lassocv.alpha_,normalize=True)\n",
    "lasso.fit(X_train,y_train)\n",
    "y_pred = lasso.predict(X_test)\n",
    "rss = np.sum((y_pred - y_test)**2)\n",
    "print('rss: ', rss)\n",
    "mse=np.mean((y_pred - y_test)**2)\n",
    "print('mse: ', mse)"
   ]
  },
  {
   "cell_type": "markdown",
   "metadata": {
    "colab_type": "text",
    "id": "McBTqN0p4ibw"
   },
   "source": [
    "## Submission\n",
    "\n",
    "Commit your completed **Week10_regression.ipynb** notebook to your personal Github repo you shared with the faculty."
   ]
  },
  {
   "cell_type": "code",
   "execution_count": 0,
   "metadata": {
    "colab": {},
    "colab_type": "code",
    "id": "llDGSLHy4ibx"
   },
   "outputs": [],
   "source": []
  }
 ],
 "metadata": {
  "colab": {
   "name": "Week10_regression.ipynb",
   "provenance": []
  },
  "kernelspec": {
   "display_name": "Python 3",
   "language": "python",
   "name": "python3"
  },
  "language_info": {
   "codemirror_mode": {
    "name": "ipython",
    "version": 3
   },
   "file_extension": ".py",
   "mimetype": "text/x-python",
   "name": "python",
   "nbconvert_exporter": "python",
   "pygments_lexer": "ipython3",
   "version": "3.7.3"
  }
 },
 "nbformat": 4,
 "nbformat_minor": 1
}
