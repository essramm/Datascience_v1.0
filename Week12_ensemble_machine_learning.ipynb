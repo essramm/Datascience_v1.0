{
  "nbformat": 4,
  "nbformat_minor": 0,
  "metadata": {
    "kernelspec": {
      "display_name": "Python 3",
      "language": "python",
      "name": "python3"
    },
    "language_info": {
      "codemirror_mode": {
        "name": "ipython",
        "version": 3
      },
      "file_extension": ".py",
      "mimetype": "text/x-python",
      "name": "python",
      "nbconvert_exporter": "python",
      "pygments_lexer": "ipython3",
      "version": "3.7.3"
    },
    "colab": {
      "name": "Week12_ensemble-machine-learning.ipynb",
      "provenance": []
    }
  },
  "cells": [
    {
      "cell_type": "markdown",
      "metadata": {
        "id": "BTVfptIWXnEh",
        "colab_type": "text"
      },
      "source": [
        "# Week12 Ensemble Machine Learning\n"
      ]
    },
    {
      "cell_type": "markdown",
      "metadata": {
        "id": "3xFJqTslXnEj",
        "colab_type": "text"
      },
      "source": [
        "In week12, we've covered:\n",
        "* **Ensemble Machine Learning**\n",
        "\n",
        "Ensemble Learning is a process using which multiple machine learning models are strategically constructed to solve a particular problem. There are three main terms describing it:\n",
        "* Bagging to decrease the model’s variance;\n",
        "* Boosting to decrease the model’s bias;\n",
        "* Stacking to increase the predictive force of the classifier.\n",
        "\n",
        "As you can see, each has its own advantages/weaknesses. Which one to use and then depends on the problem at hand. Applying ensemble methods could reduce the error **(Bias + Variance + Irreducible error)** emerging from a machine model, but remember, a more complexed model may result in overfitting problem. \n"
      ]
    },
    {
      "cell_type": "markdown",
      "metadata": {
        "id": "PlFtaUhnXnEk",
        "colab_type": "text"
      },
      "source": [
        "The best way to consolidate the knowledge in your mind is by practicing.<br>Please complete the part marked with <span style=\"color:green\">**# TODO**</span>.\n",
        "\n",
        "[Google](www.google.com), [Python Documentation](https://docs.python.org/3/contents.html), and [scikit-learn Documentation](https://scikit-learn.org/stable/) are your good friends if you have any python questions.\n",
        "\n",
        "Download **Week12_ensemble-machine-learning.ipynb** notebook to your local folder and open it with Jupyter Notebook."
      ]
    },
    {
      "cell_type": "markdown",
      "metadata": {
        "id": "WXwUbgWFXnEk",
        "colab_type": "text"
      },
      "source": [
        "### Data Loading and EDA"
      ]
    },
    {
      "cell_type": "markdown",
      "metadata": {
        "id": "Wuni7elJXnEl",
        "colab_type": "text"
      },
      "source": [
        "Libraries Installation\n",
        "    "
      ]
    },
    {
      "cell_type": "code",
      "metadata": {
        "id": "A7qbzBfVXnEm",
        "colab_type": "code",
        "colab": {}
      },
      "source": [
        "# TODO\n",
        "import numpy as np\n",
        "import pandas as pd\n",
        "import seaborn as sns\n",
        "import matplotlib.pyplot as plt\n",
        "import graphviz\n",
        "\n",
        "from sklearn.linear_model import LogisticRegression\n",
        "from sklearn.linear_model import SGDClassifier\n",
        "from sklearn.naive_bayes import GaussianNB\n",
        "from sklearn.tree import DecisionTreeClassifier, export_graphviz\n",
        "from sklearn.ensemble import RandomForestClassifier\n",
        "from xgboost import XGBClassifier\n",
        "from sklearn.ensemble import AdaBoostClassifier\n",
        "from sklearn.ensemble import GradientBoostingClassifier\n",
        "\n",
        "from sklearn.metrics import confusion_matrix, roc_auc_score\n",
        "from sklearn.preprocessing import StandardScaler, LabelEncoder\n",
        "from sklearn.model_selection import train_test_split, GridSearchCV, cross_val_score, KFold\n",
        "\n",
        "%matplotlib inline"
      ],
      "execution_count": 0,
      "outputs": []
    },
    {
      "cell_type": "markdown",
      "metadata": {
        "id": "hND1MAkYXnEp",
        "colab_type": "text"
      },
      "source": [
        "Data Loading"
      ]
    },
    {
      "cell_type": "code",
      "metadata": {
        "id": "N8Kwyz4yXnEq",
        "colab_type": "code",
        "colab": {
          "base_uri": "https://localhost:8080/",
          "height": 122
        },
        "outputId": "f156dfe1-2a9c-489e-ec30-2007e2f3044e"
      },
      "source": [
        "# TODO\n",
        "from google.colab import drive\n",
        "drive.mount('/content/drive')"
      ],
      "execution_count": 4,
      "outputs": [
        {
          "output_type": "stream",
          "text": [
            "Go to this URL in a browser: https://accounts.google.com/o/oauth2/auth?client_id=947318989803-6bn6qk8qdgf4n4g3pfee6491hc0brc4i.apps.googleusercontent.com&redirect_uri=urn%3Aietf%3Awg%3Aoauth%3A2.0%3Aoob&scope=email%20https%3A%2F%2Fwww.googleapis.com%2Fauth%2Fdocs.test%20https%3A%2F%2Fwww.googleapis.com%2Fauth%2Fdrive%20https%3A%2F%2Fwww.googleapis.com%2Fauth%2Fdrive.photos.readonly%20https%3A%2F%2Fwww.googleapis.com%2Fauth%2Fpeopleapi.readonly&response_type=code\n",
            "\n",
            "Enter your authorization code:\n",
            "··········\n",
            "Mounted at /content/drive\n"
          ],
          "name": "stdout"
        }
      ]
    },
    {
      "cell_type": "code",
      "metadata": {
        "id": "tWU2zV-vexIc",
        "colab_type": "code",
        "colab": {}
      },
      "source": [
        ""
      ],
      "execution_count": 0,
      "outputs": []
    },
    {
      "cell_type": "code",
      "metadata": {
        "colab_type": "code",
        "id": "_p2sezHQF5AC",
        "colab": {
          "base_uri": "https://localhost:8080/",
          "height": 1000
        },
        "outputId": "d17a7dbe-d2c8-43a1-a515-dacba7899a5b"
      },
      "source": [
        "# TODO\n",
        "!ls /content/drive/My\\ Drive/'Colab Notebooks'"
      ],
      "execution_count": 5,
      "outputs": [
        {
          "output_type": "stream",
          "text": [
            " bigmart_data.csv\n",
            "'Copy of Copy of Untitled3 (1).ipynb'\n",
            "'Copy of Copy of Untitled3.ipynb'\n",
            "'Copy of Copy of Week4_PythonProgramming_Homework.ipynb'\n",
            "'Copy of Copy of Week5_PythonProgramming_Homework1.ipynb'\n",
            "'Copy of tensorboard.ipynb'\n",
            "'Copy of Untitled3.ipynb'\n",
            "'Copy of Untitled4.ipynb'\n",
            "'Copy of Week09_unsupervised-learning.ipynb'\n",
            "'Copy of Week3_PythonProgramming_Homework (1).ipynb'\n",
            "'Copy of Week3_PythonProgramming_Homework.ipynb'\n",
            "'Copy of Week4_PythonProgramming_Homework (1).ipynb'\n",
            "'Copy of Week4_PythonProgramming_Homework (2).ipynb'\n",
            "'Copy of Week4_PythonProgramming_Homework (3).ipynb'\n",
            "'Copy of Week4_PythonProgramming_Homework (4).ipynb'\n",
            "'Copy of Week4_PythonProgramming_Homework.ipynb'\n",
            "'Copy of Week5_PythonProgramming_Homework (1).ipynb'\n",
            "'Copy of Week5_PythonProgramming_Homework1.ipynb'\n",
            "'Copy of Week5_PythonProgramming_Homework.ipynb'\n",
            "'Copy of Week6_intro_to_visualization.ipynb'\n",
            "'Copy of Week8_LogisticRegression_Homework.ipynb'\n",
            "'Copy of Welcome To Colaboratory'\n",
            "'Copy of Welcome To Colaboratory (1)'\n",
            " copy_Week4_PythonProgramming_Homework.ipynb\n",
            "'dataframes_pandas_pypark_problems (1).ipynb'\n",
            "'dataframes_pandas_pypark_problems (3).ipynb'\n",
            " dataframes_pandas_pypark_problems.ipynb\n",
            " heart.csv\n",
            "'Hello world .ipynb.py'\n",
            " housing.csv\n",
            "'old Week3_PythonProgramming_Homework.ipynb'\n",
            "'Screen Shot 2019-08-30 at 6.34.59 AM.ipynb'\n",
            " test.csv\n",
            " train.csv\n",
            " Tree.ipynb\n",
            " Untitled0.ipynb\n",
            " Untitled1.ipynb\n",
            " Untitled2.ipynb\n",
            " Untitled3.ipynb\n",
            " Untitled4.ipynb\n",
            " Untitled5.ipynb\n",
            " untitled.ipynb\n",
            "'Week09_unsupervised-learning (1).ipynb'\n",
            "'Week09_unsupervised-learning David.ipynb'\n",
            " Week09_unsupervised-learning.ipynb\n",
            " Week10_regression.ipynb\n",
            "'Week10_regression_solution (1).ipynb'\n",
            "'Week10_regression_solution (2).ipynb'\n",
            " Week10_regression_solution.ipynb\n",
            " Week11_classification-and-decision-tree.ipynb\n",
            " Week11_classification-and-decision-tree_solution.ipynb\n",
            "'Week1_PythonProgramming_Homework (1).ipynb'\n",
            " Week1_PythonProgramming_Homework.ipynb\n",
            "'Week2_PythonProgramming_Homework.-0B3Wohk38c0MPRFR6Q0FPdEZyMWp1S0ZyMXJnbk1LVVlUdk1nPQ (1).ipynb'\n",
            " Week2_PythonProgramming_Homework.ipynb\n",
            " Week2_PythonProgramming_Homework_Solution.ipynb\n",
            " Week3_PythonProgramming_Homework.ipynb\n",
            " Week3_PythonProgramming_Homework_Solution.ipynb\n",
            "'Week4_PythonProgramming_Homework (1).ipynb'\n",
            "'Week4_PythonProgramming_Homework (2).ipynb'\n",
            "'Week4_PythonProgramming_Homework (3).ipynb'\n",
            " Week4_PythonProgramming_Homework.ipynb\n",
            " Week4_PythonProgramming_Homework_Solution.ipynb\n",
            "'Week5_PythonProgramming_Homework (1).ipynb'\n",
            " Week5_PythonProgramming_Homework1.ipynb\n",
            " Week5_PythonProgramming_Homework.ipynb\n",
            "'Week5_PythonProgramming_Homework_Solution (1).ipynb'\n",
            " Week5_PythonProgramming_Homework_Solution.ipynb\n",
            "'Week6_intro_to_visualization (1).ipynb'\n",
            " Week6_intro_to_visualization.ipynb\n",
            " Week6_intro_to_visualization_solution.ipynb\n",
            "'Week7_LinearRegression_Homework (1).ipynb'\n",
            " Week7_LinearRegression_Homework.ipynb\n",
            " Week7_LinearRegression_Homework_Solution.ipynb\n",
            "'Week8_LogisticRegression_Homework (1).ipynb'\n",
            " Week8_LogisticRegression_Homework.ipynb\n",
            " Week8_Robyn.ipynb\n",
            " WineKMC.xlsx\n",
            " winequality-red.csv\n"
          ],
          "name": "stdout"
        }
      ]
    },
    {
      "cell_type": "code",
      "metadata": {
        "id": "tvRakLFGe9G2",
        "colab_type": "code",
        "colab": {}
      },
      "source": [
        "# TODO\n",
        "data = pd.read_csv('/content/drive/My Drive/Colab Notebooks/heart.csv')\n",
        "#wine = pd.read_csv('winequality-red.csv')\n",
        "#data = pd.read_csv('heart.csv')"
      ],
      "execution_count": 0,
      "outputs": []
    },
    {
      "cell_type": "markdown",
      "metadata": {
        "id": "IRtgyo6pXnEs",
        "colab_type": "text"
      },
      "source": [
        "#### Columns of Dataset\n",
        "\n",
        "* age: age in years\n",
        "* sex: (1 = male; 0 = female)\n",
        "* cp: chest pain type\n",
        "* trestbps: resting blood pressure: (in mm Hg on admission to the hospital)\n",
        "* chol: serum cholestoral in mg/dl\n",
        "* fbs: (fasting blood sugar > 120 mg/dl) (1 = true; 0 = false)\n",
        "* restecg: resting electrocardiographic results\n",
        "* thalach: maximum heart rate achieved\n",
        "* exang: exercise induced angina (1 = yes; 0 = no)\n",
        "* oldpeak: ST depression induced by exercise relative to rest\n",
        "* slope: the slope of the peak exercise ST segment\n",
        "* ca: number of major vessels (0-3) colored by flourosopy\n",
        "* thal: 3 = normal; 6 = fixed defect; 7 = reversable defect\n",
        "* target: 1 or 0"
      ]
    },
    {
      "cell_type": "markdown",
      "metadata": {
        "id": "a7csT714XnEt",
        "colab_type": "text"
      },
      "source": [
        "Data Exploration"
      ]
    },
    {
      "cell_type": "code",
      "metadata": {
        "id": "yzLfXzgwXnEu",
        "colab_type": "code",
        "colab": {
          "base_uri": "https://localhost:8080/",
          "height": 68
        },
        "outputId": "f03d5deb-4e80-4f67-a8d6-6f9f3018a169"
      },
      "source": [
        "# TODO\n",
        "data.shape\n",
        "data.head()\n",
        "data.groupby(\"target\").mean()\n",
        "data['target'].value_counts()\n"
      ],
      "execution_count": 9,
      "outputs": [
        {
          "output_type": "execute_result",
          "data": {
            "text/plain": [
              "1    165\n",
              "0    138\n",
              "Name: target, dtype: int64"
            ]
          },
          "metadata": {
            "tags": []
          },
          "execution_count": 9
        }
      ]
    },
    {
      "cell_type": "code",
      "metadata": {
        "id": "BFGlrAXhg2a3",
        "colab_type": "code",
        "colab": {
          "base_uri": "https://localhost:8080/",
          "height": 359
        },
        "outputId": "62565a4e-30c3-47fe-8be7-aae04f8fee64"
      },
      "source": [
        "data.head(10)"
      ],
      "execution_count": 10,
      "outputs": [
        {
          "output_type": "execute_result",
          "data": {
            "text/html": [
              "<div>\n",
              "<style scoped>\n",
              "    .dataframe tbody tr th:only-of-type {\n",
              "        vertical-align: middle;\n",
              "    }\n",
              "\n",
              "    .dataframe tbody tr th {\n",
              "        vertical-align: top;\n",
              "    }\n",
              "\n",
              "    .dataframe thead th {\n",
              "        text-align: right;\n",
              "    }\n",
              "</style>\n",
              "<table border=\"1\" class=\"dataframe\">\n",
              "  <thead>\n",
              "    <tr style=\"text-align: right;\">\n",
              "      <th></th>\n",
              "      <th>age</th>\n",
              "      <th>sex</th>\n",
              "      <th>cp</th>\n",
              "      <th>trestbps</th>\n",
              "      <th>chol</th>\n",
              "      <th>fbs</th>\n",
              "      <th>restecg</th>\n",
              "      <th>thalach</th>\n",
              "      <th>exang</th>\n",
              "      <th>oldpeak</th>\n",
              "      <th>slope</th>\n",
              "      <th>ca</th>\n",
              "      <th>thal</th>\n",
              "      <th>target</th>\n",
              "    </tr>\n",
              "  </thead>\n",
              "  <tbody>\n",
              "    <tr>\n",
              "      <th>0</th>\n",
              "      <td>71</td>\n",
              "      <td>0</td>\n",
              "      <td>1</td>\n",
              "      <td>160</td>\n",
              "      <td>302</td>\n",
              "      <td>0</td>\n",
              "      <td>1</td>\n",
              "      <td>162</td>\n",
              "      <td>0</td>\n",
              "      <td>0.4</td>\n",
              "      <td>2</td>\n",
              "      <td>2</td>\n",
              "      <td>2</td>\n",
              "      <td>1</td>\n",
              "    </tr>\n",
              "    <tr>\n",
              "      <th>1</th>\n",
              "      <td>59</td>\n",
              "      <td>1</td>\n",
              "      <td>2</td>\n",
              "      <td>150</td>\n",
              "      <td>212</td>\n",
              "      <td>1</td>\n",
              "      <td>1</td>\n",
              "      <td>157</td>\n",
              "      <td>0</td>\n",
              "      <td>1.6</td>\n",
              "      <td>2</td>\n",
              "      <td>0</td>\n",
              "      <td>2</td>\n",
              "      <td>1</td>\n",
              "    </tr>\n",
              "    <tr>\n",
              "      <th>2</th>\n",
              "      <td>51</td>\n",
              "      <td>1</td>\n",
              "      <td>2</td>\n",
              "      <td>110</td>\n",
              "      <td>175</td>\n",
              "      <td>0</td>\n",
              "      <td>1</td>\n",
              "      <td>123</td>\n",
              "      <td>0</td>\n",
              "      <td>0.6</td>\n",
              "      <td>2</td>\n",
              "      <td>0</td>\n",
              "      <td>2</td>\n",
              "      <td>1</td>\n",
              "    </tr>\n",
              "    <tr>\n",
              "      <th>3</th>\n",
              "      <td>65</td>\n",
              "      <td>0</td>\n",
              "      <td>2</td>\n",
              "      <td>140</td>\n",
              "      <td>417</td>\n",
              "      <td>1</td>\n",
              "      <td>0</td>\n",
              "      <td>157</td>\n",
              "      <td>0</td>\n",
              "      <td>0.8</td>\n",
              "      <td>2</td>\n",
              "      <td>1</td>\n",
              "      <td>2</td>\n",
              "      <td>1</td>\n",
              "    </tr>\n",
              "    <tr>\n",
              "      <th>4</th>\n",
              "      <td>53</td>\n",
              "      <td>1</td>\n",
              "      <td>2</td>\n",
              "      <td>130</td>\n",
              "      <td>197</td>\n",
              "      <td>1</td>\n",
              "      <td>0</td>\n",
              "      <td>152</td>\n",
              "      <td>0</td>\n",
              "      <td>1.2</td>\n",
              "      <td>0</td>\n",
              "      <td>0</td>\n",
              "      <td>2</td>\n",
              "      <td>1</td>\n",
              "    </tr>\n",
              "    <tr>\n",
              "      <th>5</th>\n",
              "      <td>41</td>\n",
              "      <td>0</td>\n",
              "      <td>1</td>\n",
              "      <td>105</td>\n",
              "      <td>198</td>\n",
              "      <td>0</td>\n",
              "      <td>1</td>\n",
              "      <td>168</td>\n",
              "      <td>0</td>\n",
              "      <td>0.0</td>\n",
              "      <td>2</td>\n",
              "      <td>1</td>\n",
              "      <td>2</td>\n",
              "      <td>1</td>\n",
              "    </tr>\n",
              "    <tr>\n",
              "      <th>6</th>\n",
              "      <td>65</td>\n",
              "      <td>1</td>\n",
              "      <td>0</td>\n",
              "      <td>120</td>\n",
              "      <td>177</td>\n",
              "      <td>0</td>\n",
              "      <td>1</td>\n",
              "      <td>140</td>\n",
              "      <td>0</td>\n",
              "      <td>0.4</td>\n",
              "      <td>2</td>\n",
              "      <td>0</td>\n",
              "      <td>3</td>\n",
              "      <td>1</td>\n",
              "    </tr>\n",
              "    <tr>\n",
              "      <th>7</th>\n",
              "      <td>44</td>\n",
              "      <td>1</td>\n",
              "      <td>1</td>\n",
              "      <td>130</td>\n",
              "      <td>219</td>\n",
              "      <td>0</td>\n",
              "      <td>0</td>\n",
              "      <td>188</td>\n",
              "      <td>0</td>\n",
              "      <td>0.0</td>\n",
              "      <td>2</td>\n",
              "      <td>0</td>\n",
              "      <td>2</td>\n",
              "      <td>1</td>\n",
              "    </tr>\n",
              "    <tr>\n",
              "      <th>8</th>\n",
              "      <td>54</td>\n",
              "      <td>1</td>\n",
              "      <td>2</td>\n",
              "      <td>125</td>\n",
              "      <td>273</td>\n",
              "      <td>0</td>\n",
              "      <td>0</td>\n",
              "      <td>152</td>\n",
              "      <td>0</td>\n",
              "      <td>0.5</td>\n",
              "      <td>0</td>\n",
              "      <td>1</td>\n",
              "      <td>2</td>\n",
              "      <td>1</td>\n",
              "    </tr>\n",
              "    <tr>\n",
              "      <th>9</th>\n",
              "      <td>51</td>\n",
              "      <td>1</td>\n",
              "      <td>3</td>\n",
              "      <td>125</td>\n",
              "      <td>213</td>\n",
              "      <td>0</td>\n",
              "      <td>0</td>\n",
              "      <td>125</td>\n",
              "      <td>1</td>\n",
              "      <td>1.4</td>\n",
              "      <td>2</td>\n",
              "      <td>1</td>\n",
              "      <td>2</td>\n",
              "      <td>1</td>\n",
              "    </tr>\n",
              "  </tbody>\n",
              "</table>\n",
              "</div>"
            ],
            "text/plain": [
              "   age  sex  cp  trestbps  chol  fbs  ...  exang  oldpeak  slope  ca  thal  target\n",
              "0   71    0   1       160   302    0  ...      0      0.4      2   2     2       1\n",
              "1   59    1   2       150   212    1  ...      0      1.6      2   0     2       1\n",
              "2   51    1   2       110   175    0  ...      0      0.6      2   0     2       1\n",
              "3   65    0   2       140   417    1  ...      0      0.8      2   1     2       1\n",
              "4   53    1   2       130   197    1  ...      0      1.2      0   0     2       1\n",
              "5   41    0   1       105   198    0  ...      0      0.0      2   1     2       1\n",
              "6   65    1   0       120   177    0  ...      0      0.4      2   0     3       1\n",
              "7   44    1   1       130   219    0  ...      0      0.0      2   0     2       1\n",
              "8   54    1   2       125   273    0  ...      0      0.5      0   1     2       1\n",
              "9   51    1   3       125   213    0  ...      1      1.4      2   1     2       1\n",
              "\n",
              "[10 rows x 14 columns]"
            ]
          },
          "metadata": {
            "tags": []
          },
          "execution_count": 10
        }
      ]
    },
    {
      "cell_type": "code",
      "metadata": {
        "id": "t8eKp8c2g-ZY",
        "colab_type": "code",
        "colab": {
          "base_uri": "https://localhost:8080/",
          "height": 340
        },
        "outputId": "c4951a9f-a9ae-4d67-ad0e-6b0daa8c2738"
      },
      "source": [
        "data.info()"
      ],
      "execution_count": 11,
      "outputs": [
        {
          "output_type": "stream",
          "text": [
            "<class 'pandas.core.frame.DataFrame'>\n",
            "RangeIndex: 303 entries, 0 to 302\n",
            "Data columns (total 14 columns):\n",
            "age         303 non-null int64\n",
            "sex         303 non-null int64\n",
            "cp          303 non-null int64\n",
            "trestbps    303 non-null int64\n",
            "chol        303 non-null int64\n",
            "fbs         303 non-null int64\n",
            "restecg     303 non-null int64\n",
            "thalach     303 non-null int64\n",
            "exang       303 non-null int64\n",
            "oldpeak     303 non-null float64\n",
            "slope       303 non-null int64\n",
            "ca          303 non-null int64\n",
            "thal        303 non-null int64\n",
            "target      303 non-null int64\n",
            "dtypes: float64(1), int64(13)\n",
            "memory usage: 33.3 KB\n"
          ],
          "name": "stdout"
        }
      ]
    },
    {
      "cell_type": "markdown",
      "metadata": {
        "id": "uEQPXIgLXnEw",
        "colab_type": "text"
      },
      "source": [
        "Data Visualization -- use seaborn to plot graphs to help you better understand this dataset"
      ]
    },
    {
      "cell_type": "code",
      "metadata": {
        "scrolled": true,
        "id": "Iu60vZLzXnEx",
        "colab_type": "code",
        "colab": {
          "base_uri": "https://localhost:8080/",
          "height": 385
        },
        "outputId": "176d41aa-661a-4fbe-9a68-e54616851c5b"
      },
      "source": [
        "# TODO\n",
        "sns.catplot(kind = 'bar', data = data, y = 'age', x = 'sex', hue = 'target')\n",
        "plt.title('Distribution of age vs sex with the target class')\n",
        "plt.show()"
      ],
      "execution_count": 12,
      "outputs": [
        {
          "output_type": "display_data",
          "data": {
            "image/png": "[encoded data removed]",
            "text/plain": [
              "<Figure size 402.375x360 with 1 Axes>"
            ]
          },
          "metadata": {
            "tags": []
          }
        }
      ]
    },
    {
      "cell_type": "markdown",
      "metadata": {
        "id": "gBul8QtnXnEz",
        "colab_type": "text"
      },
      "source": [
        "Hopefully you have already built up some understandings of this dataset, now let's use this dataset to classify whether a person is suffering from a heart disease or not."
      ]
    },
    {
      "cell_type": "markdown",
      "metadata": {
        "id": "kS2xN1SCXnE0",
        "colab_type": "text"
      },
      "source": [
        "### Data Preprocessing"
      ]
    },
    {
      "cell_type": "code",
      "metadata": {
        "id": "bPeBxRdchv9-",
        "colab_type": "code",
        "colab": {
          "base_uri": "https://localhost:8080/",
          "height": 272
        },
        "outputId": "8c75d475-51c5-4687-af6c-622e183032ea"
      },
      "source": [
        "data.isnull().sum()"
      ],
      "execution_count": 13,
      "outputs": [
        {
          "output_type": "execute_result",
          "data": {
            "text/plain": [
              "age         0\n",
              "sex         0\n",
              "cp          0\n",
              "trestbps    0\n",
              "chol        0\n",
              "fbs         0\n",
              "restecg     0\n",
              "thalach     0\n",
              "exang       0\n",
              "oldpeak     0\n",
              "slope       0\n",
              "ca          0\n",
              "thal        0\n",
              "target      0\n",
              "dtype: int64"
            ]
          },
          "metadata": {
            "tags": []
          },
          "execution_count": 13
        }
      ]
    },
    {
      "cell_type": "code",
      "metadata": {
        "id": "H_-d4SwFh58P",
        "colab_type": "code",
        "colab": {}
      },
      "source": [
        "X = data.drop('target', axis = 1)\n",
        "y = data['target']\n",
        "X_train, X_test, y_train, y_test = train_test_split(X, y, test_size = 0.25, random_state = 42)\n",
        "sc = StandardScaler()\n",
        "X_train = sc.fit_transform(X_train)\n",
        "X_test = sc.fit_transform(X_test)"
      ],
      "execution_count": 0,
      "outputs": []
    },
    {
      "cell_type": "markdown",
      "metadata": {
        "id": "6blVlFRcXnE0",
        "colab_type": "text"
      },
      "source": [
        "### Modeling"
      ]
    },
    {
      "cell_type": "markdown",
      "metadata": {
        "id": "3ztf-XdhXnE1",
        "colab_type": "text"
      },
      "source": [
        "#### Logistic Regression"
      ]
    },
    {
      "cell_type": "markdown",
      "metadata": {
        "id": "BI-1-_-HXnE2",
        "colab_type": "text"
      },
      "source": [
        "Let's build a classic logistic regression model as a baseline to see how it performs"
      ]
    },
    {
      "cell_type": "code",
      "metadata": {
        "id": "ZFZzxdIXXnE2",
        "colab_type": "code",
        "colab": {
          "base_uri": "https://localhost:8080/",
          "height": 156
        },
        "outputId": "1cf58908-a9d3-475e-c9ec-0c3a006e40ee"
      },
      "source": [
        "# TODO\n",
        "\n",
        "lr = LogisticRegression()\n",
        "lr.fit(X_train, y_train)"
      ],
      "execution_count": 15,
      "outputs": [
        {
          "output_type": "stream",
          "text": [
            "/usr/local/lib/python3.6/dist-packages/sklearn/linear_model/logistic.py:432: FutureWarning: Default solver will be changed to 'lbfgs' in 0.22. Specify a solver to silence this warning.\n",
            "  FutureWarning)\n"
          ],
          "name": "stderr"
        },
        {
          "output_type": "execute_result",
          "data": {
            "text/plain": [
              "LogisticRegression(C=1.0, class_weight=None, dual=False, fit_intercept=True,\n",
              "                   intercept_scaling=1, l1_ratio=None, max_iter=100,\n",
              "                   multi_class='warn', n_jobs=None, penalty='l2',\n",
              "                   random_state=None, solver='warn', tol=0.0001, verbose=0,\n",
              "                   warm_start=False)"
            ]
          },
          "metadata": {
            "tags": []
          },
          "execution_count": 15
        }
      ]
    },
    {
      "cell_type": "code",
      "metadata": {
        "id": "pi54WLJ1iZvz",
        "colab_type": "code",
        "colab": {}
      },
      "source": [
        "y_pred = lr.predict(X_test)"
      ],
      "execution_count": 0,
      "outputs": []
    },
    {
      "cell_type": "code",
      "metadata": {
        "id": "KveJoj1Xidb_",
        "colab_type": "code",
        "colab": {
          "base_uri": "https://localhost:8080/",
          "height": 34
        },
        "outputId": "8c2fc87a-f63a-42d3-e9b4-8bea5995bccb"
      },
      "source": [
        "roc_auc_score(y_test,y_pred)"
      ],
      "execution_count": 17,
      "outputs": [
        {
          "output_type": "execute_result",
          "data": {
            "text/plain": [
              "0.6337535014005603"
            ]
          },
          "metadata": {
            "tags": []
          },
          "execution_count": 17
        }
      ]
    },
    {
      "cell_type": "code",
      "metadata": {
        "id": "gDvNPwykXnE6",
        "colab_type": "code",
        "colab": {
          "base_uri": "https://localhost:8080/",
          "height": 68
        },
        "outputId": "5b29e713-a196-4538-81b4-2ad83511642f"
      },
      "source": [
        "# TODO\n",
        "print('training error: %f' % (1-np.mean(lr.predict(X_train)==y_train)))\n",
        "print('testing error: %f' % (1-np.mean(y_pred==y_test)))\n",
        "print(\"lr score: \", lr.score(X_test,y_test))"
      ],
      "execution_count": 18,
      "outputs": [
        {
          "output_type": "stream",
          "text": [
            "training error: 0.286344\n",
            "testing error: 0.355263\n",
            "lr score:  0.6447368421052632\n"
          ],
          "name": "stdout"
        }
      ]
    },
    {
      "cell_type": "markdown",
      "metadata": {
        "id": "NBBYxSCwXnE5",
        "colab_type": "text"
      },
      "source": [
        "Which ensemble model would you suggest to try out and why?"
      ]
    },
    {
      "cell_type": "code",
      "metadata": {
        "id": "M2x32yOQi-jk",
        "colab_type": "code",
        "colab": {}
      },
      "source": [
        "# Ensemble model combines multiple individual models together and delivers superior prediction power. \n",
        "# Bagging helps to reduce the variance error, \n",
        "# boosting helps to reduce bias error, \n",
        "# stacking helps to reduce the generalization error."
      ],
      "execution_count": 0,
      "outputs": []
    },
    {
      "cell_type": "markdown",
      "metadata": {
        "id": "xhQ3GPKWXnE8",
        "colab_type": "text"
      },
      "source": [
        "#### Random Forest"
      ]
    },
    {
      "cell_type": "markdown",
      "metadata": {
        "id": "WxjEs59TXnE8",
        "colab_type": "text"
      },
      "source": [
        "Train a Random Forest model and perform predictions on test set"
      ]
    },
    {
      "cell_type": "code",
      "metadata": {
        "id": "lh4rTEBKXnE9",
        "colab_type": "code",
        "colab": {}
      },
      "source": [
        "# TODO \n",
        "rf = RandomForestClassifier(n_estimators=100,random_state=42)\n",
        "rf.fit(X_train, y_train)\n",
        "y_pred = rf.predict(X_test)\n",
        "rf_score=rf.score(X_test, y_test)\n"
      ],
      "execution_count": 0,
      "outputs": []
    },
    {
      "cell_type": "markdown",
      "metadata": {
        "id": "DM0zND6PXnE_",
        "colab_type": "text"
      },
      "source": [
        "How would you evaluate the model performance?"
      ]
    },
    {
      "cell_type": "code",
      "metadata": {
        "id": "tIFSlQckXnFA",
        "colab_type": "code",
        "colab": {
          "base_uri": "https://localhost:8080/",
          "height": 68
        },
        "outputId": "5eb56768-9ad8-4dea-b418-0dcf8882e596"
      },
      "source": [
        "# TODO\n",
        "print(confusion_matrix(y_test, y_pred))\n",
        "rf.score(X_test,y_test)"
      ],
      "execution_count": 20,
      "outputs": [
        {
          "output_type": "stream",
          "text": [
            "[[22 12]\n",
            " [12 30]]\n"
          ],
          "name": "stdout"
        },
        {
          "output_type": "execute_result",
          "data": {
            "text/plain": [
              "0.6842105263157895"
            ]
          },
          "metadata": {
            "tags": []
          },
          "execution_count": 20
        }
      ]
    },
    {
      "cell_type": "markdown",
      "metadata": {
        "id": "SzX3gRh8XnFC",
        "colab_type": "text"
      },
      "source": [
        "Can you improve the model?"
      ]
    },
    {
      "cell_type": "code",
      "metadata": {
        "id": "r5bB_1KPXnFD",
        "colab_type": "code",
        "colab": {
          "base_uri": "https://localhost:8080/",
          "height": 445
        },
        "outputId": "7dcf1e8c-d709-4f12-f3d6-c69a25ed09f4"
      },
      "source": [
        "# Todo\n",
        "from sklearn.pipeline import Pipeline\n",
        "from sklearn.model_selection import GridSearchCV\n",
        "\n",
        "rf=RandomForestClassifier(random_state=42)\n",
        "param_grid={\"n_estimators\":[100,200,500],\n",
        "            \"max_depth\":[2,4,None],\n",
        "           \"min_samples_split\":[2,3,8],\n",
        "           \"min_samples_leaf\":[3,4,6],\n",
        "           \"bootstrap\":[True,False],\n",
        "           \"criterion\":['gini','entropy']}\n",
        "\n",
        "grid_search=GridSearchCV(rf,param_grid,n_jobs=-1,cv=3,scoring='accuracy')\n",
        "\n",
        "grid_search.fit(X_train, y_train)"
      ],
      "execution_count": 22,
      "outputs": [
        {
          "output_type": "stream",
          "text": [
            "/usr/local/lib/python3.6/dist-packages/sklearn/model_selection/_search.py:814: DeprecationWarning: The default of the `iid` parameter will change from True to False in version 0.22 and will be removed in 0.24. This will change numeric results when test-set sizes are unequal.\n",
            "  DeprecationWarning)\n"
          ],
          "name": "stderr"
        },
        {
          "output_type": "execute_result",
          "data": {
            "text/plain": [
              "GridSearchCV(cv=3, error_score='raise-deprecating',\n",
              "             estimator=RandomForestClassifier(bootstrap=True, class_weight=None,\n",
              "                                              criterion='gini', max_depth=None,\n",
              "                                              max_features='auto',\n",
              "                                              max_leaf_nodes=None,\n",
              "                                              min_impurity_decrease=0.0,\n",
              "                                              min_impurity_split=None,\n",
              "                                              min_samples_leaf=1,\n",
              "                                              min_samples_split=2,\n",
              "                                              min_weight_fraction_leaf=0.0,\n",
              "                                              n_estimators='warn', n_jobs=None,\n",
              "                                              oob_score=False, random_state=42,\n",
              "                                              verbose=0, warm_start=False),\n",
              "             iid='warn', n_jobs=-1,\n",
              "             param_grid={'bootstrap': [True, False],\n",
              "                         'criterion': ['gini', 'entropy'],\n",
              "                         'max_depth': [2, 4, None],\n",
              "                         'min_samples_leaf': [3, 4, 6],\n",
              "                         'min_samples_split': [2, 3, 8],\n",
              "                         'n_estimators': [100, 200, 500]},\n",
              "             pre_dispatch='2*n_jobs', refit=True, return_train_score=False,\n",
              "             scoring='accuracy', verbose=0)"
            ]
          },
          "metadata": {
            "tags": []
          },
          "execution_count": 22
        }
      ]
    },
    {
      "cell_type": "code",
      "metadata": {
        "id": "fB1KOWh1kgoN",
        "colab_type": "code",
        "colab": {
          "base_uri": "https://localhost:8080/",
          "height": 119
        },
        "outputId": "88dd7c3c-75a4-455f-8917-4c232b909ded"
      },
      "source": [
        "grid_search.best_score_\n",
        "grid_search.best_params_"
      ],
      "execution_count": 23,
      "outputs": [
        {
          "output_type": "execute_result",
          "data": {
            "text/plain": [
              "{'bootstrap': True,\n",
              " 'criterion': 'entropy',\n",
              " 'max_depth': 4,\n",
              " 'min_samples_leaf': 3,\n",
              " 'min_samples_split': 2,\n",
              " 'n_estimators': 200}"
            ]
          },
          "metadata": {
            "tags": []
          },
          "execution_count": 23
        }
      ]
    },
    {
      "cell_type": "markdown",
      "metadata": {
        "id": "-TNtZMjPXnFG",
        "colab_type": "text"
      },
      "source": [
        "Please explain how you improved random forest model performance."
      ]
    },
    {
      "cell_type": "code",
      "metadata": {
        "id": "HtIm0Y4YXnFG",
        "colab_type": "code",
        "colab": {
          "base_uri": "https://localhost:8080/",
          "height": 85
        },
        "outputId": "0b0a8fcc-1f5d-4404-9720-8ca8d24ccd98"
      },
      "source": [
        "# Todo\n",
        "best_rf = grid_search.best_estimator_\n",
        "y_pred = best_rf.predict(X_test)\n",
        "best_rf_score=best_rf.score(X_test, y_test)\n",
        "print(confusion_matrix(y_test, y_pred))\n",
        "\n",
        "print(\"random rf score: \", rf_score)\n",
        "print(\"tuned rf score: \", best_rf_score)"
      ],
      "execution_count": 24,
      "outputs": [
        {
          "output_type": "stream",
          "text": [
            "[[22 12]\n",
            " [ 7 35]]\n",
            "random rf score:  0.6842105263157895\n",
            "tuned rf score:  0.75\n"
          ],
          "name": "stdout"
        }
      ]
    },
    {
      "cell_type": "markdown",
      "metadata": {
        "id": "iqidEWQoXnFI",
        "colab_type": "text"
      },
      "source": [
        "What are the five most important variables and how do you know?"
      ]
    },
    {
      "cell_type": "code",
      "metadata": {
        "id": "t6DMTs-rXnFK",
        "colab_type": "code",
        "colab": {
          "base_uri": "https://localhost:8080/",
          "height": 405
        },
        "outputId": "72afe3c4-6cc2-4c80-91ff-6d607cff37d6"
      },
      "source": [
        "# Todo\n",
        "pd.Series(best_rf.feature_importances_,\n",
        "         index=X.columns).sort_values(ascending=False).plot(kind='bar',figsize=(12,6));"
      ],
      "execution_count": 25,
      "outputs": [
        {
          "output_type": "display_data",
          "data": {
            "image/png": "[encoded data removed]",
            "text/plain": [
              "<Figure size 864x432 with 1 Axes>"
            ]
          },
          "metadata": {
            "tags": []
          }
        }
      ]
    },
    {
      "cell_type": "markdown",
      "metadata": {
        "id": "uhjmWTimXnFM",
        "colab_type": "text"
      },
      "source": [
        "#### Boosting"
      ]
    },
    {
      "cell_type": "markdown",
      "metadata": {
        "id": "Qma-2kdWXnFM",
        "colab_type": "text"
      },
      "source": [
        "Fit a boosting model"
      ]
    },
    {
      "cell_type": "code",
      "metadata": {
        "id": "d2LI9izNXnFN",
        "colab_type": "code",
        "colab": {
          "base_uri": "https://localhost:8080/",
          "height": 68
        },
        "outputId": "4a961311-6a79-4b27-bc09-405a45ec83c8"
      },
      "source": [
        "# Todo\n",
        "xgb = XGBClassifier(learning_rate = 0.01, \n",
        "                    n_estimators=500, \n",
        "                    max_depth=5,\n",
        "                    min_child_weight=8,\n",
        "                    gamma=0,\n",
        "                    subsample=0.8, \n",
        "                    colsample_bytree=0.8,\n",
        "                    reg_alpha=0.01,\n",
        "                    objective= 'binary:logistic',\n",
        "                    nthread=4,\n",
        "                    seed=27)\n",
        "xgb.fit(X_train, y_train)\n",
        "y_pred = xgb.predict(X_test)\n",
        "print(confusion_matrix(y_test, y_pred))\n",
        "print(\"xgboost score: \", xgb.score(X_test,y_test))"
      ],
      "execution_count": 26,
      "outputs": [
        {
          "output_type": "stream",
          "text": [
            "[[23 11]\n",
            " [10 32]]\n",
            "xgboost score:  0.7236842105263158\n"
          ],
          "name": "stdout"
        }
      ]
    },
    {
      "cell_type": "markdown",
      "metadata": {
        "id": "F48-dlWjXnFP",
        "colab_type": "text"
      },
      "source": [
        "### Model Comparison"
      ]
    },
    {
      "cell_type": "markdown",
      "metadata": {
        "id": "71zPw2ScXnFQ",
        "colab_type": "text"
      },
      "source": [
        "We are interested in how to classify/predict heart disease. What metrics should be considered to evaluate model performance, in addition to accuracy?"
      ]
    },
    {
      "cell_type": "code",
      "metadata": {
        "id": "tUIdUMoNXnFR",
        "colab_type": "code",
        "colab": {}
      },
      "source": [
        "# TODO\n",
        " TODO\n",
        "# Looking at fp, fn in addition to accuracy\n",
        "# Since the model is predicting heart disease, too many type II errors is not advisable. \n",
        "# A False Negative ( ignoring the probability of disease when there actualy is one) is more dangerous \n",
        "# than a False Positive in this case. \n",
        "\n"
      ],
      "execution_count": 0,
      "outputs": []
    },
    {
      "cell_type": "markdown",
      "metadata": {
        "id": "N5YTU8ZbXnFU",
        "colab_type": "text"
      },
      "source": [
        "Compare and contrast the above 3 models (logistic regression, random forest, boosting) that you just built."
      ]
    },
    {
      "cell_type": "code",
      "metadata": {
        "id": "38-Ejb_WXnFX",
        "colab_type": "code",
        "colab": {
          "base_uri": "https://localhost:8080/",
          "height": 425
        },
        "outputId": "4f2e6403-1917-466d-cde2-6ef31b0f878c"
      },
      "source": [
        "# TODO\n",
        "models = []\n",
        "models.append((\"Logistic Regression:\",lr))\n",
        "models.append((\"Random Forest:\",best_rf))\n",
        "models.append((\"Xgboost:\",xgb))\n",
        "\n",
        "for name,model in models:\n",
        "    tn,fp,fn,tp=confusion_matrix(y_test,model.predict(X_test)).ravel()\n",
        "    print(name)\n",
        "    print(\"accuracy \", model.score(X_test,y_test))\n",
        "    print(\"true negative: \", tn)\n",
        "    print(\"false positive: \", fp)\n",
        "    print(\"false negative: \", fn)\n",
        "    print(\"true positive: \", tp)\n",
        "    print(\"fpr: \", fp/(tn+fp))\n",
        "    print(\"fnr: \", fn/(tp+fn))"
      ],
      "execution_count": 27,
      "outputs": [
        {
          "output_type": "stream",
          "text": [
            "Logistic Regression:\n",
            "accuracy  0.6447368421052632\n",
            "true negative:  18\n",
            "false positive:  16\n",
            "false negative:  11\n",
            "true positive:  31\n",
            "fpr:  0.47058823529411764\n",
            "fnr:  0.2619047619047619\n",
            "Random Forest:\n",
            "accuracy  0.75\n",
            "true negative:  22\n",
            "false positive:  12\n",
            "false negative:  7\n",
            "true positive:  35\n",
            "fpr:  0.35294117647058826\n",
            "fnr:  0.16666666666666666\n",
            "Xgboost:\n",
            "accuracy  0.7236842105263158\n",
            "true negative:  23\n",
            "false positive:  11\n",
            "false negative:  10\n",
            "true positive:  32\n",
            "fpr:  0.3235294117647059\n",
            "fnr:  0.23809523809523808\n"
          ],
          "name": "stdout"
        }
      ]
    },
    {
      "cell_type": "markdown",
      "metadata": {
        "id": "Wf3rQDseXnFZ",
        "colab_type": "text"
      },
      "source": [
        "## Submission\n",
        "\n",
        "Commit your completed **Week12_ensemble-machine-learning.ipynb** notebook to your personal Github repo you shared with the faculty."
      ]
    }
  ]
}